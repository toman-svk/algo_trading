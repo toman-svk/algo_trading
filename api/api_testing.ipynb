{
 "cells": [
  {
   "cell_type": "code",
   "execution_count": null,
   "metadata": {},
   "outputs": [],
   "source": [
    "import requests\n",
    "from gnews import GNews\n",
    "import json\n",
    "import urllib.request\n",
    "import sys\n",
    "sys.path.append(\"../database\")\n",
    "import db_functions as db\n",
    "import pandas as pd\n",
    "import datetime\n",
    "\n",
    "key = '9c91bc6d7cca946fffc04ee94bc2e24c'"
   ]
  },
  {
   "cell_type": "code",
   "execution_count": null,
   "metadata": {},
   "outputs": [],
   "source": [
    "google_news = GNews(language='en', \n",
    "                    country='US', \n",
    "                    period='1d', \n",
    "                    max_results=10, \n",
    "                    # exclude_websites=['yahoo.com', 'cnn.com'],\n",
    "                    )"
   ]
  },
  {
   "cell_type": "code",
   "execution_count": null,
   "metadata": {},
   "outputs": [],
   "source": [
    "# https://docs.python.org/3/library/urllib.request.html#module-urllib.request\n",
    "# This library will be used to fetch the API.\n",
    "\n",
    "class Api_GNews():\n",
    "\n",
    "    def __init__(self,api_key = '9c91bc6d7cca946fffc04ee94bc2e24c'):\n",
    "        self.api_key = api_key\n",
    "        self.db = db_functions.Database()\n",
    "        print(f'Api_Gnews object and Database object were initialized')\n",
    "\n",
    "\n",
    "    # def fetch_articles(self, keyword='Tesla'):\n",
    "    #     url = f\"https://gnews.io/api/v4/search?q={keyword}&lang=en&country=us&max=10&in=title&apikey={self.api_key}\"\n",
    "    #     with urllib.request.urlopen(url) as response:\n",
    "    #         status_code = response.getcode()\n",
    "    #         if status_code == 200:\n",
    "    #             fetched_data = json.loads(response.read().decode(\"utf-8\"))\n",
    "    #             articles = fetched_data[\"articles\"]\n",
    "    #             print(\"Data fetched successfully!\")\n",
    "    #             return articles\n",
    "    #         else:\n",
    "    #             error_message = fetched_data.get(\"message\")\n",
    "    #             print(f\"Error fetching data. Status code: {status_code}. Error message is {error_message}\")\n",
    "\n",
    "\n",
    "    def fetch_articles(self, keyword='Tesla'):\n",
    "        \n",
    "        from_time = int((datetime.now() - timedelta(hours=1)).timestamp())\n",
    "        url = f\"https://gnews.io/api/v4/search?q={keyword}&lang=en&mindate={from_time}&country=*\"\n",
    "        url += f\"&max=10&in=title&apikey={self.api_key}\"\n",
    "        \n",
    "        with urllib.request.urlopen(url) as response:\n",
    "            status_code = response.getcode()\n",
    "            if status_code == 200:\n",
    "                fetched_data = json.loads(response.read().decode(\"utf-8\"))\n",
    "                articles = fetched_data[\"articles\"]\n",
    "                print(\"Data fetched successfully!\")\n",
    "                return articles\n",
    "            else:\n",
    "                error_message = fetched_data.get(\"message\")\n",
    "                print(f\"Error fetching data. Status code: {status_code}. Error message is {error_message}\")\n",
    "\n",
    "\n",
    "    def upload_data(self, articles):\n",
    "        for i in range(len(articles)):\n",
    "            article = articles[i]\n",
    "            data = {\n",
    "                    \"title\": article[\"title\"],\n",
    "                    \"description\": article[\"description\"],\n",
    "                    \"content\": article[\"content\"],\n",
    "                    \"url\": article[\"url\"],\n",
    "                    \"image\": article[\"image\"],\n",
    "                    \"publishedAt\": article[\"publishedAt\"],\n",
    "                    \"source\": article[\"source\"][\"name\"]\n",
    "                    }\n",
    "            self.db.insert_into_table('news',data)"
   ]
  },
  {
   "cell_type": "code",
   "execution_count": null,
   "metadata": {},
   "outputs": [],
   "source": [
    "api = Api_GNews()"
   ]
  },
  {
   "cell_type": "code",
   "execution_count": null,
   "metadata": {},
   "outputs": [],
   "source": [
    "articles = api.fetch_articles('Tesla')"
   ]
  },
  {
   "cell_type": "code",
   "execution_count": null,
   "metadata": {},
   "outputs": [],
   "source": [
    "articles[0].keys()"
   ]
  },
  {
   "cell_type": "code",
   "execution_count": null,
   "metadata": {},
   "outputs": [],
   "source": [
    "api.db.create_table(\n",
    "    table_name = 'news',\n",
    "    title = 'VARCHAR(255)',\n",
    "    description = 'TEXT',\n",
    "    content = 'TEXT',\n",
    "    url = 'VARCHAR(255)',\n",
    "    image = 'VARCHAR(255)',\n",
    "    publishedAt = 'VARCHAR(255)',\n",
    "    source = 'VARCHAR(255)'\n",
    ")"
   ]
  },
  {
   "cell_type": "code",
   "execution_count": null,
   "metadata": {},
   "outputs": [],
   "source": [
    "api.db.get_table_list()"
   ]
  },
  {
   "cell_type": "code",
   "execution_count": null,
   "metadata": {},
   "outputs": [],
   "source": [
    "api.upload_data(articles)"
   ]
  },
  {
   "cell_type": "code",
   "execution_count": null,
   "metadata": {},
   "outputs": [],
   "source": [
    "api.db.back_up_the_database()"
   ]
  },
  {
   "cell_type": "code",
   "execution_count": null,
   "metadata": {},
   "outputs": [],
   "source": [
    "df_news = api.db.create_dataframe_from_table('news')"
   ]
  },
  {
   "cell_type": "code",
   "execution_count": null,
   "metadata": {},
   "outputs": [],
   "source": [
    "df_news"
   ]
  },
  {
   "cell_type": "code",
   "execution_count": null,
   "metadata": {},
   "outputs": [],
   "source": [
    "api.db.remove_duplicates('news', 'content')"
   ]
  },
  {
   "cell_type": "code",
   "execution_count": null,
   "metadata": {},
   "outputs": [],
   "source": [
    "api.db.back_up_the_database()"
   ]
  },
  {
   "cell_type": "code",
   "execution_count": null,
   "metadata": {},
   "outputs": [],
   "source": [
    "api.db.get_table_list()"
   ]
  }
 ],
 "metadata": {
  "kernelspec": {
   "display_name": "algo_trading",
   "language": "python",
   "name": "python3"
  },
  "language_info": {
   "codemirror_mode": {
    "name": "ipython",
    "version": 3
   },
   "file_extension": ".py",
   "mimetype": "text/x-python",
   "name": "python",
   "nbconvert_exporter": "python",
   "pygments_lexer": "ipython3",
   "version": "3.11.0"
  },
  "orig_nbformat": 4
 },
 "nbformat": 4,
 "nbformat_minor": 2
}
