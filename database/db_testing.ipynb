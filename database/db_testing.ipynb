{
 "cells": [
  {
   "cell_type": "code",
   "execution_count": 121,
   "metadata": {},
   "outputs": [],
   "source": [
    "import psycopg2\n",
    "import pandas as pd\n",
    "import os\n",
    "import datetime\n",
    "\n",
    "class Database:\n",
    "\n",
    "    def __init__(self, dbname='filiptomanka', user='postgres', port='5433'):\n",
    "        self.dbname = dbname\n",
    "        self.user = user\n",
    "        self.port = port\n",
    "\n",
    "\n",
    "\n",
    "    def connect(self):\n",
    "        self.conn = psycopg2.connect(\n",
    "            dbname = self.dbname,\n",
    "            user= self.user,\n",
    "            port = self.port\n",
    "            )\n",
    "        self.cur = self.conn.cursor()\n",
    "        print('Connected to database.')\n",
    "\n",
    "\n",
    "\n",
    "    def disconnect(self):\n",
    "        self.cur.close()\n",
    "        self.conn.close()\n",
    "        print('Disconnected from database.')\n",
    "\n",
    "\n",
    "\n",
    "    def get_table_list(self):\n",
    "\n",
    "        self.connect()\n",
    "        \n",
    "        self.cur.execute(\"SELECT tablename FROM pg_catalog.pg_tables WHERE schemaname='public'\")\n",
    "        table_names = self.cur.fetchall()\n",
    "        print('Database contains following tables:')\n",
    "        for table_name in table_names:\n",
    "            print(table_name[0])\n",
    "\n",
    "        self.disconnect()\n",
    "\n",
    "\n",
    "\n",
    "    def create_table(self, table_name, **columns):\n",
    "    \n",
    "        self.connect()\n",
    "\n",
    "        self.cur.execute(f\"SELECT EXISTS (SELECT FROM information_schema.tables WHERE table_name = '{table_name}');\")\n",
    "        table_exists = self.cur.fetchone()[0]\n",
    "        if table_exists:\n",
    "            print(f\"Table {table_name} already exists.\")\n",
    "            self.disconnect()\n",
    "            return\n",
    "\n",
    "        sql = f\"CREATE TABLE {table_name} (\"\n",
    "        for col_name, col_type in columns.items():\n",
    "            sql += f\"{col_name} {col_type}, \"\n",
    "        sql = sql[:-2] # remove the trailing comma and space\n",
    "        sql += \");\"\n",
    "\n",
    "        self.cur.execute(sql)\n",
    "        self.conn.commit()\n",
    "        print(f\"Table {table_name} created successfully.\")\n",
    "\n",
    "        self.disconnect()\n",
    "\n",
    "\n",
    "\n",
    "    def drop_table(self, table_name):\n",
    "\n",
    "        self.connect()\n",
    "\n",
    "        try:\n",
    "            self.cur.execute(f\"DROP TABLE {table_name}\")\n",
    "            print(f'Dropped table {table_name}')\n",
    "            self.conn.commit()\n",
    "        except:\n",
    "            print(f'Table {table_name} doesnt exist.')\n",
    "\n",
    "        self.disconnect()\n",
    "\n",
    "\n",
    "\n",
    "    def back_up_the_database(self):\n",
    "\n",
    "        self.connect()\n",
    "        self.cur.execute(\"SELECT table_name FROM information_schema.tables WHERE table_schema='public' AND table_type='BASE TABLE'\")\n",
    "        table_names = [row[0] for row in self.cur.fetchall()]\n",
    "\n",
    "        # Create a folder for the export files named after the current date and time\n",
    "        export_folder = 'backup/' + datetime.datetime.now().strftime('%Y-%m-%d_%H-%M-%S')\n",
    "        os.makedirs(export_folder, exist_ok=True)\n",
    "\n",
    "        # Loop through the table names and export each table to a CSV file\n",
    "        for table_name in table_names:\n",
    "            query = f\"SELECT * FROM {table_name}\"\n",
    "            self.cur.execute(query)\n",
    "            rows = self.cur.fetchall()\n",
    "            column_names = [desc[0] for desc in self.cur.description]\n",
    "            df = pd.DataFrame(rows, columns=column_names)\n",
    "            export_path = os.path.join(export_folder, f\"{table_name}.csv\")\n",
    "            df.to_csv(export_path, index=False)\n",
    "            print(f'Backing up table {table_name}')\n",
    "\n",
    "        self.disconnect()\n",
    "\n",
    "\n",
    "    \n",
    "    def insert_into_table(self, table_name, data):\n",
    "\n",
    "        self.connect()\n",
    "\n",
    "        # Construct the INSERT query\n",
    "        columns = \", \".join(data.keys())\n",
    "        values = \", \".join([f\"%({key})s\" for key in data.keys()])\n",
    "        query = f\"INSERT INTO {table_name} ({columns}) VALUES ({values})\"\n",
    "\n",
    "        # Execute the INSERT query with the data provided\n",
    "        try:\n",
    "            self.cur.execute(query, data)\n",
    "            self.conn.commit()\n",
    "            print(f'Inserted data into table {table_name}')\n",
    "\n",
    "        except:\n",
    "            print(f'There was a problem while inserting data into table {table_name}')\n",
    "\n",
    "        self.disconnect()\n",
    "\n",
    "\n",
    "    \n",
    "    def download_table(self, table_name):\n",
    "\n",
    "        self.connect()\n",
    "\n",
    "        query = f\"SELECT * FROM {table_name}\"\n",
    "\n",
    "        # Execute the SELECT query and fetch the results\n",
    "        \n",
    "        try:\n",
    "            self.cur.execute(query)\n",
    "            rows = self.cur.fetchall()\n",
    "            column_names = [desc[0] for desc in self.cur.description]\n",
    "            df = pd.DataFrame(rows, columns=column_names)\n",
    "            print(f'Created df out of table {table_name}')\n",
    "            self.disconnect\n",
    "            return df\n",
    "        except:\n",
    "            self.disconnect\n",
    "            print(f'There was an error downloading table {table_name}')         "
   ]
  },
  {
   "cell_type": "code",
   "execution_count": 122,
   "metadata": {},
   "outputs": [],
   "source": [
    "db = Database()"
   ]
  },
  {
   "cell_type": "code",
   "execution_count": 123,
   "metadata": {},
   "outputs": [
    {
     "name": "stdout",
     "output_type": "stream",
     "text": [
      "Connected to database.\n",
      "There was an error downloading table test_table4\n"
     ]
    }
   ],
   "source": [
    "df = db.download_table('test_table4')"
   ]
  },
  {
   "cell_type": "code",
   "execution_count": 125,
   "metadata": {},
   "outputs": [],
   "source": [
    "df"
   ]
  },
  {
   "cell_type": "code",
   "execution_count": 126,
   "metadata": {},
   "outputs": [
    {
     "name": "stdout",
     "output_type": "stream",
     "text": [
      "Connected to database.\n",
      "Database contains following tables:\n",
      "test_table2\n",
      "test_table1\n",
      "test_table3\n",
      "Disconnected from database.\n"
     ]
    }
   ],
   "source": [
    "db.get_table_list()"
   ]
  },
  {
   "cell_type": "code",
   "execution_count": 127,
   "metadata": {},
   "outputs": [
    {
     "name": "stdout",
     "output_type": "stream",
     "text": [
      "Connected to database.\n",
      "Table test_table created successfully.\n",
      "Disconnected from database.\n"
     ]
    }
   ],
   "source": [
    "db.create_table(\n",
    "    table_name=\"test_table\",\n",
    "    column1=\"INTEGER\",\n",
    "    column2=\"VARCHAR(255)\",\n",
    "    column3=\"INTEGER\"\n",
    ")"
   ]
  },
  {
   "cell_type": "code",
   "execution_count": 79,
   "metadata": {},
   "outputs": [
    {
     "name": "stdout",
     "output_type": "stream",
     "text": [
      "Connected to database.\n",
      "Table mytable doesnt exist.\n",
      "Disconnected from database.\n"
     ]
    }
   ],
   "source": [
    "db.drop_table(\"mytable\")"
   ]
  },
  {
   "cell_type": "code",
   "execution_count": 100,
   "metadata": {},
   "outputs": [
    {
     "name": "stdout",
     "output_type": "stream",
     "text": [
      "Connected to database.\n",
      "Backing up table test_table2\n",
      "Backing up table test_table1\n",
      "Backing up table test_table3\n",
      "Disconnected from database.\n"
     ]
    }
   ],
   "source": [
    "db.back_up_the_database()"
   ]
  },
  {
   "cell_type": "code",
   "execution_count": 99,
   "metadata": {},
   "outputs": [
    {
     "name": "stdout",
     "output_type": "stream",
     "text": [
      "Connected to database.\n",
      "There was a problem while inserting data into table test_table3\n",
      "Disconnected from database.\n"
     ]
    }
   ],
   "source": [
    "sample_data = {'column1' : [1,2,3],\n",
    "               'column2' : ['John Smith', 'secondname', 'thirdname'],\n",
    "               'column3': [50000, 20000, 15000] }\n",
    "\n",
    "db.insert_into_table('test_table3',sample_data)"
   ]
  },
  {
   "cell_type": "code",
   "execution_count": null,
   "metadata": {},
   "outputs": [],
   "source": [
    "db."
   ]
  }
 ],
 "metadata": {
  "kernelspec": {
   "display_name": "algo_trading",
   "language": "python",
   "name": "python3"
  },
  "language_info": {
   "codemirror_mode": {
    "name": "ipython",
    "version": 3
   },
   "file_extension": ".py",
   "mimetype": "text/x-python",
   "name": "python",
   "nbconvert_exporter": "python",
   "pygments_lexer": "ipython3",
   "version": "3.11.0"
  },
  "orig_nbformat": 4
 },
 "nbformat": 4,
 "nbformat_minor": 2
}
