{
 "cells": [
  {
   "cell_type": "code",
   "execution_count": 34,
   "metadata": {},
   "outputs": [],
   "source": [
    "\n"
   ]
  },
  {
   "cell_type": "code",
   "execution_count": null,
   "metadata": {},
   "outputs": [],
   "source": [
    "import datetime\n",
    "import pytz\n",
    "\n",
    "# Set timezone\n",
    "tz = pytz.timezone('Europe/Prague')\n",
    "\n",
    "# Get current datetime in the specified timezone\n",
    "now = datetime.datetime.now(tz)\n",
    "\n",
    "# Set the 'from' parameter to beginning of the day 5 hours ago\n",
    "from_date = (now - datetime.timedelta(hours=5)).replace(hour=0, minute=0, second=0, microsecond=0)\n",
    "\n",
    "# Convert the datetime object to string in the required format\n",
    "from_date_str = from_date.strftime('%Y-%m-%dT%H:%M:%S')\n",
    "\n",
    "# Set the 'to' parameter to the current time\n",
    "to_date = now.strftime('%Y-%m-%dT%H:%M:%S')\n",
    "\n",
    "# Fetch news articles using News API\n",
    "articles_news_api = newsapi.get_everything(q='the',\n",
    "                                           from_param='2023-03-14',\n",
    "                                            to='2023-03-15',\n",
    "                                            language='en',\n",
    "                                            sort_by='publishedAt')"
   ]
  },
  {
   "cell_type": "code",
   "execution_count": 35,
   "metadata": {},
   "outputs": [],
   "source": [
    "# Python 3\n",
    "import http.client, urllib.parse\n",
    "import json\n",
    "from datetime import datetime, timedelta\n",
    "\n",
    "class Api_Mediastack():\n",
    "\n",
    "    def __init__(self, api_key = 'da3b3c58cd1f40e5938bc7388e91840f'):\n",
    "        self.api_key = api_key\n",
    "        print(f'Api_Mediastack object was initialized')\n",
    "\n",
    "    def fetch_articles(self, keyword = 'Tesla'):\n",
    "\n",
    "        self.conn = http.client.HTTPConnection('api.mediastack.com')\n",
    "        params = urllib.parse.urlencode({\n",
    "            'access_key': self.api_key,\n",
    "            'keywords': keyword,\n",
    "            'sort': 'published_desc',\n",
    "            'limit': 10,\n",
    "            'date': datetime.now().strftime('%Y-%m-%d')\n",
    "        })\n",
    "        self.conn.request('GET', '/v1/news?{}'.format(params))\n",
    "        fetched_data = self.conn.getresponse().read()\n",
    "\n",
    "        return json.loads(fetched_data.decode('utf-8'))\n",
    "    \n",
    "    def prepare_news_data_for_upload(self, data):\n",
    "\n",
    "        data_dict = {\n",
    "                \"title\": [],\n",
    "                \"description\": [],\n",
    "                \"content\": [],\n",
    "                \"url\": [],\n",
    "                \"image\": [],\n",
    "                \"publishedat\": [],\n",
    "                \"source\": []\n",
    "                }        \n",
    "\n",
    "        for article in data['data']:\n",
    "\n",
    "            data_dict['title'].append(article['title'])\n",
    "            data_dict['description'].append(article['description'])\n",
    "            data_dict['content'].append(article['description'])\n",
    "            data_dict['url'].append(article['url'])\n",
    "            data_dict['image'].append(article['image'])\n",
    "            data_dict['publishedat'].append(article['published_at'])\n",
    "            data_dict['source'].append(article['source'])\n",
    "        \n",
    "        return data_dict\n",
    "\n"
   ]
  },
  {
   "cell_type": "code",
   "execution_count": 36,
   "metadata": {},
   "outputs": [
    {
     "name": "stdout",
     "output_type": "stream",
     "text": [
      "Api_Mediastack object was initialized\n"
     ]
    }
   ],
   "source": [
    "api = Api_Mediastack()"
   ]
  },
  {
   "cell_type": "code",
   "execution_count": 37,
   "metadata": {},
   "outputs": [],
   "source": [
    "data = api.fetch_articles()"
   ]
  },
  {
   "cell_type": "code",
   "execution_count": 39,
   "metadata": {},
   "outputs": [],
   "source": [
    "data_dict = api.prepare_news_data_for_upload(data)"
   ]
  }
 ],
 "metadata": {
  "kernelspec": {
   "display_name": "algo_trading",
   "language": "python",
   "name": "python3"
  },
  "language_info": {
   "codemirror_mode": {
    "name": "ipython",
    "version": 3
   },
   "file_extension": ".py",
   "mimetype": "text/x-python",
   "name": "python",
   "nbconvert_exporter": "python",
   "pygments_lexer": "ipython3",
   "version": "3.11.0"
  },
  "orig_nbformat": 4
 },
 "nbformat": 4,
 "nbformat_minor": 2
}
