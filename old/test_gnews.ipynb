{
 "cells": [
  {
   "cell_type": "code",
   "execution_count": 9,
   "metadata": {},
   "outputs": [],
   "source": [
    "import requests\n",
    "from gnews import GNews\n",
    "import json\n",
    "import urllib.request\n",
    "import pandas as pd\n",
    "from datetime import datetime, timedelta\n",
    "\n",
    "key = '9c91bc6d7cca946fffc04ee94bc2e24c'\n",
    "\n",
    "\n",
    "class Api_GNews():\n",
    "\n",
    "    def __init__(self,api_key = '9c91bc6d7cca946fffc04ee94bc2e24c'):\n",
    "        self.api_key = api_key\n",
    "        print(f'Api_Gnews object was initialized')\n",
    "\n",
    "\n",
    "    def fetch_articles(self, keyword='Tesla'):\n",
    "        \n",
    "        from_time = int((datetime.now() - timedelta(hours=1)).timestamp())\n",
    "        url = f\"https://gnews.io/api/v4/search?q={keyword}&lang=en&mindate={from_time}&country=*\"\n",
    "        url += f\"&max=10&in=title&apikey={self.api_key}\"\n",
    "        \n",
    "        with urllib.request.urlopen(url) as response:\n",
    "            status_code = response.getcode()\n",
    "            if status_code == 200:\n",
    "                fetched_data = json.loads(response.read().decode(\"utf-8\"))\n",
    "                print(\"Data fetched successfully!\")\n",
    "                return fetched_data\n",
    "            else:\n",
    "                error_message = fetched_data.get(\"message\")\n",
    "                print(f\"Error fetching data. Status code: {status_code}. Error message is {error_message}\")\n",
    "\n",
    "\n",
    "    def prepare_news_data_for_upload(self, data):\n",
    "\n",
    "        data_dict = {\n",
    "                \"title\": [],\n",
    "                \"description\": [],\n",
    "                \"content\": [],\n",
    "                \"url\": [],\n",
    "                \"image\": [],\n",
    "                \"publishedat\": [],\n",
    "                \"source\": []\n",
    "                }        \n",
    "\n",
    "        for article in data['articles']:\n",
    "\n",
    "            data_dict['title'].append(article['title'])\n",
    "            data_dict['description'].append(article['description'])\n",
    "            data_dict['content'].append(article['description'])\n",
    "            data_dict['url'].append(article['url'])\n",
    "            data_dict['image'].append(article['image'])\n",
    "            data_dict['publishedat'].append(article['publishedAt'])\n",
    "            data_dict['source'].append(article['source']['name'])\n",
    "        \n",
    "        return data_dict"
   ]
  },
  {
   "cell_type": "code",
   "execution_count": 10,
   "metadata": {},
   "outputs": [
    {
     "name": "stdout",
     "output_type": "stream",
     "text": [
      "Api_Gnews object was initialized\n"
     ]
    }
   ],
   "source": [
    "api = Api_GNews()"
   ]
  },
  {
   "cell_type": "code",
   "execution_count": 11,
   "metadata": {},
   "outputs": [
    {
     "name": "stdout",
     "output_type": "stream",
     "text": [
      "Data fetched successfully!\n"
     ]
    }
   ],
   "source": [
    "data = api.fetch_articles()"
   ]
  },
  {
   "cell_type": "code",
   "execution_count": 14,
   "metadata": {},
   "outputs": [],
   "source": [
    "data_dict = api.prepare_news_data_for_upload(data)"
   ]
  },
  {
   "cell_type": "code",
   "execution_count": 17,
   "metadata": {},
   "outputs": [
    {
     "data": {
      "text/plain": [
       "[\"Tesla hit with 'right to repair' antitrust class actions\",\n",
       " 'Tesla faces new lawsuit over monopoly power in repairs, parts business',\n",
       " 'Tesla faces new lawsuit over monopoly power in repairs, parts business',\n",
       " 'BMW and Volkswagen Are Spending Whatever it Takes To Rival Tesla',\n",
       " 'Tesla accused by customers of monopolizing repairs in class action lawsuit',\n",
       " 'Man from Canada unlocked someone else’s Tesla, using his app',\n",
       " \"Tesla App Lets Man Accidentally Steal a Model 3 That Wasn't His\",\n",
       " 'Surveys suggest that Elon Musk’s tweets may damage Tesla’s brand',\n",
       " 'Tesla can’t open more company stores in Mississippi after governor signs bill requiring franchises',\n",
       " \"2 Tesla drivers take off in each other's cars in mix-up\"]"
      ]
     },
     "execution_count": 17,
     "metadata": {},
     "output_type": "execute_result"
    }
   ],
   "source": [
    "data_dict['title']"
   ]
  }
 ],
 "metadata": {
  "kernelspec": {
   "display_name": "algo_trading",
   "language": "python",
   "name": "python3"
  },
  "language_info": {
   "codemirror_mode": {
    "name": "ipython",
    "version": 3
   },
   "file_extension": ".py",
   "mimetype": "text/x-python",
   "name": "python",
   "nbconvert_exporter": "python",
   "pygments_lexer": "ipython3",
   "version": "3.11.0"
  },
  "orig_nbformat": 4
 },
 "nbformat": 4,
 "nbformat_minor": 2
}
